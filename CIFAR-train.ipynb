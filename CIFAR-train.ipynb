{
 "cells": [
  {
   "cell_type": "code",
   "execution_count": 1,
   "metadata": {},
   "outputs": [],
   "source": [
    "# import from exist library\n",
    "import torch.optim as optim\n",
    "import torchvision\n",
    "import torchvision.transforms as transforms\n",
    "import torch.multiprocessing as mp\n",
    "\n",
    "mp.set_start_method('spawn')\n",
    "\n",
    "# import from my files\n",
    "from models.resnet import ResNet\n",
    "from lib.federated import FederatedServer"
   ]
  },
  {
   "cell_type": "code",
   "execution_count": 2,
   "metadata": {},
   "outputs": [
    {
     "name": "stdout",
     "output_type": "stream",
     "text": [
      "Files already downloaded and verified\n",
      "Files already downloaded and verified\n"
     ]
    }
   ],
   "source": [
    "# pre-settings\n",
    "\n",
    "DEVICE_LIST = ['cuda:' + str(i) for i in range(4)]\n",
    "ROUNDS = 10\n",
    "\n",
    "WARM_SETTINGS = {\n",
    "    'warm_up': False,\n",
    "    'setting':{\n",
    "        'batch_size': 128\n",
    "    }\n",
    "}\n",
    "\n",
    "CLIENT_SETTINGS = {\n",
    "    'mode': 'thres',\n",
    "    'thres': 0.95,\n",
    "    'max_epoch': 500,\n",
    "    'batch_size': 256,\n",
    "    'enable_scheduler': True,\n",
    "    'scheduler': optim.lr_scheduler.ReduceLROnPlateau,\n",
    "    'scheduler_settings':{\n",
    "        'mode': 'min',\n",
    "        'factor': 0.13,\n",
    "        'patience': 5,\n",
    "        'verbose': True,\n",
    "        'min_lr': 1e-8,\n",
    "        'cooldown': 3\n",
    "    }\n",
    "}\n",
    "\n",
    "NET_KWARGS = {\n",
    "    'depth': 44,\n",
    "    'num_classes': 10\n",
    "}\n",
    "\n",
    "SERVER_SETTINGS = {\n",
    "    'clients_num': 5,\n",
    "    'split_method': 'imba-size',\n",
    "    'capacity': [10**i/11111 for i in range(5)],\n",
    "    'random_response': False,\n",
    "    'client_settings': CLIENT_SETTINGS,\n",
    "    'warm_setting': WARM_SETTINGS,\n",
    "    'net_kwargs': NET_KWARGS,\n",
    "    'cal_sv': True,\n",
    "    'cal_loo': True,\n",
    "    'eval_clients': True,\n",
    "    'devices': DEVICE_LIST\n",
    "}\n",
    "\n",
    "TRANSFORM_CIFAR10_TRAIN = transforms.Compose([\n",
    "    transforms.RandomCrop(32, padding=4),\n",
    "    transforms.RandomHorizontalFlip(),\n",
    "    transforms.ToTensor(),\n",
    "    transforms.Normalize((0.4914, 0.4822, 0.4465), (0.2023, 0.1994, 0.2010)),\n",
    "])\n",
    "\n",
    "TRANSFORM_CIFAR10_TEST = transforms.Compose([\n",
    "    transforms.ToTensor(),\n",
    "    transforms.Normalize((0.4914, 0.4822, 0.4465), (0.2023, 0.1994, 0.2010)),\n",
    "])\n",
    "\n",
    "trainset = torchvision.datasets.CIFAR10('../public_set', train=True, transform=TRANSFORM_CIFAR10_TRAIN, download=True)\n",
    "testset = torchvision.datasets.CIFAR10('../public_set', train=False, transform=TRANSFORM_CIFAR10_TEST, download=True)"
   ]
  },
  {
   "cell_type": "code",
   "execution_count": null,
   "metadata": {},
   "outputs": [
    {
     "name": "stdout",
     "output_type": "stream",
     "text": [
      "Start training clients...\n"
     ]
    }
   ],
   "source": [
    "# run\n",
    "fl = FederatedServer(ResNet, trainset, testset, **SERVER_SETTINGS)\n",
    "fl.run(rounds=ROUNDS)\n",
    "fl.save_valuation('cifa_differ_quan_10_')"
   ]
  },
  {
   "cell_type": "code",
   "execution_count": null,
   "metadata": {},
   "outputs": [],
   "source": []
  }
 ],
 "metadata": {
  "kernelspec": {
   "display_name": "Python 3",
   "language": "python",
   "name": "python3"
  },
  "language_info": {
   "codemirror_mode": {
    "name": "ipython",
    "version": 3
   },
   "file_extension": ".py",
   "mimetype": "text/x-python",
   "name": "python",
   "nbconvert_exporter": "python",
   "pygments_lexer": "ipython3",
   "version": "3.7.5"
  }
 },
 "nbformat": 4,
 "nbformat_minor": 2
}
